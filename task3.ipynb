{
 "cells": [
  {
   "cell_type": "markdown",
   "metadata": {},
   "source": [
    "## Path of data"
   ]
  },
  {
   "cell_type": "code",
   "execution_count": 5,
   "metadata": {},
   "outputs": [],
   "source": [
    "import pickle\n",
    "import os\n",
    "\n",
    "data_path =  '..\\Bootcamp_Machine_Learning_Production_Data_Preparation\\dataset'\n",
    "\n",
    "def load_pickle(child_path):\n",
    "    data = pickle.load(open(os.path.join(data_path, child_path), 'rb'))\n",
    "    return data"
   ]
  },
  {
   "cell_type": "markdown",
   "metadata": {},
   "source": [
    "## Load dataset"
   ]
  },
  {
   "cell_type": "code",
   "execution_count": 6,
   "metadata": {},
   "outputs": [],
   "source": [
    "from sklearn.linear_model import LogisticRegression\n",
    "from sklearn.metrics import classification_report\n",
    "\n",
    "train_data = load_pickle(\"train_data.pickle\")\n",
    "test_data = load_pickle(\"test_data.pickle\")\n",
    "\n",
    "train_x = train_data['x']\n",
    "train_y = train_data['y']\n",
    "\n",
    "test_x = test_data['x']\n",
    "test_y = test_data['y']"
   ]
  },
  {
   "cell_type": "markdown",
   "metadata": {},
   "source": [
    "## Training data with LoRe"
   ]
  },
  {
   "cell_type": "code",
   "execution_count": 9,
   "metadata": {},
   "outputs": [
    {
     "name": "stdout",
     "output_type": "stream",
     "text": [
      "              precision    recall  f1-score   support\n",
      "\n",
      "       anger       0.61      0.80      0.69       220\n",
      "        fear       0.82      0.62      0.70       130\n",
      "       happy       0.63      0.63      0.63       204\n",
      "        love       0.85      0.64      0.73       127\n",
      "     sadness       0.52      0.51      0.52       200\n",
      "\n",
      "    accuracy                           0.64       881\n",
      "   macro avg       0.69      0.64      0.65       881\n",
      "weighted avg       0.66      0.64      0.64       881\n",
      "\n"
     ]
    }
   ],
   "source": [
    "# Instantiate and train the Logistic Regression model\n",
    "model = LogisticRegression(max_iter=100)  # Increase max_iter if the default converges too slowly\n",
    "model.fit(train_x, train_y)\n",
    "\n",
    "# Predict the labels for the test set\n",
    "predicted_y = model.predict(test_x)\n",
    "\n",
    "# Print the classification report\n",
    "report = classification_report(test_y, predicted_y)\n",
    "print(report)"
   ]
  },
  {
   "cell_type": "code",
   "execution_count": null,
   "metadata": {},
   "outputs": [],
   "source": []
  }
 ],
 "metadata": {
  "kernelspec": {
   "display_name": ".venv",
   "language": "python",
   "name": "python3"
  },
  "language_info": {
   "codemirror_mode": {
    "name": "ipython",
    "version": 3
   },
   "file_extension": ".py",
   "mimetype": "text/x-python",
   "name": "python",
   "nbconvert_exporter": "python",
   "pygments_lexer": "ipython3",
   "version": "3.11.6"
  }
 },
 "nbformat": 4,
 "nbformat_minor": 2
}
