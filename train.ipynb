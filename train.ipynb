{
 "cells": [
  {
   "cell_type": "markdown",
   "metadata": {},
   "source": [
    "## Dependency"
   ]
  },
  {
   "cell_type": "code",
   "execution_count": 32,
   "metadata": {},
   "outputs": [],
   "source": [
    "import os\n",
    "import yaml #pip install pyYAML\n",
    "from utils.utils import convert_params\n",
    "from sklearn.metrics import classification_report\n",
    "from sklearn.naive_bayes import GaussianNB\n",
    "from sklearn.ensemble import RandomForestClassifier\n",
    "from sklearn.svm import SVC\n",
    "from sklearn.linear_model import LogisticRegression\n",
    "import pickle\n",
    "import os\n",
    "import neptune\n",
    "import joblib"
   ]
  },
  {
   "cell_type": "code",
   "execution_count": 21,
   "metadata": {},
   "outputs": [
    {
     "name": "stdout",
     "output_type": "stream",
     "text": [
      "[neptune] [info   ] Neptune initialized. Open in the app: https://app.neptune.ai/test-text/bootcamp-test/e/BOOT-1\n"
     ]
    }
   ],
   "source": [
    "run = neptune.init_run(\n",
    "    project=\"test-text/bootcamp-test\",\n",
    "    api_token=\"eyJhcGlfYWRkcmVzcyI6Imh0dHBzOi8vYXBwLm5lcHR1bmUuYWkiLCJhcGlfdXJsIjoiaHR0cHM6Ly9hcHAubmVwdHVuZS5haSIsImFwaV9rZXkiOiI5ODAzYzk0NS1iNjFiLTQ3ZDAtYjJlZS1hMDg2NTA1ZTliODgifQ==\",\n",
    ")"
   ]
  },
  {
   "cell_type": "markdown",
   "metadata": {},
   "source": [
    "## path of data"
   ]
  },
  {
   "cell_type": "code",
   "execution_count": 22,
   "metadata": {},
   "outputs": [],
   "source": [
    "\n",
    "data_path =  '..\\Bootcamp_Machine_Learning_Production_Data_Preparation\\dataset'\n",
    "\n",
    "def load_pickle(child_path): #load data.pickle \n",
    "    data = pickle.load(open(os.path.join(data_path, child_path), 'rb'))\n",
    "    return data"
   ]
  },
  {
   "cell_type": "markdown",
   "metadata": {},
   "source": [
    "## load dataset"
   ]
  },
  {
   "cell_type": "code",
   "execution_count": 23,
   "metadata": {},
   "outputs": [],
   "source": [
    "train_data = load_pickle(\"train_data.pickle\")\n",
    "test_data = load_pickle(\"test_data.pickle\")\n",
    "\n",
    "train_x = train_data['x']\n",
    "train_y = train_data['y']\n",
    "test_x = test_data['x']\n",
    "test_y = test_data['y']"
   ]
  },
  {
   "cell_type": "markdown",
   "metadata": {},
   "source": [
    "## load yaml"
   ]
  },
  {
   "cell_type": "code",
   "execution_count": 25,
   "metadata": {},
   "outputs": [],
   "source": [
    "# Load methods config and model version from YAML\n",
    "with open(\"configs/config.yaml\", \"r\") as file:\n",
    "    config = yaml.safe_load(file)\n",
    "\n",
    "model_version = config[\"model_versions\"]  # Get model version from YAML\n",
    "\n",
    "# Dictionary to map method names to sklearn models\n",
    "model_mapping = {\n",
    "    \"Logistic Regression\": LogisticRegression,\n",
    "    \"Random Forest\": RandomForestClassifier,\n",
    "    \"SVM\": SVC,\n",
    "}"
   ]
  },
  {
   "cell_type": "markdown",
   "metadata": {},
   "source": [
    "## dimension of dataset"
   ]
  },
  {
   "cell_type": "code",
   "execution_count": 26,
   "metadata": {},
   "outputs": [
    {
     "name": "stdout",
     "output_type": "stream",
     "text": [
      "(3520, 11769) (3520,)\n"
     ]
    }
   ],
   "source": [
    "print(train_x.shape, train_y.shape)"
   ]
  },
  {
   "cell_type": "markdown",
   "metadata": {},
   "source": [
    "## cek file of config"
   ]
  },
  {
   "cell_type": "code",
   "execution_count": 31,
   "metadata": {},
   "outputs": [
    {
     "name": "stdout",
     "output_type": "stream",
     "text": [
      "Training with SVM, model version v1.0.0\n"
     ]
    }
   ],
   "source": [
    "choosen_method = config['choosen_method']\n",
    "model_version = config['model_versions']\n",
    "\n",
    "print(f\"Training with {choosen_method}, model version {model_version}\")"
   ]
  },
  {
   "cell_type": "code",
   "execution_count": 33,
   "metadata": {},
   "outputs": [
    {
     "name": "stdout",
     "output_type": "stream",
     "text": [
      "Classification Report for SVM:\n",
      "              precision    recall  f1-score   support\n",
      "\n",
      "       anger       0.59      0.80      0.68       220\n",
      "        fear       0.89      0.56      0.69       130\n",
      "       happy       0.64      0.60      0.62       204\n",
      "        love       0.86      0.62      0.72       127\n",
      "     sadness       0.49      0.53      0.51       200\n",
      "\n",
      "    accuracy                           0.63       881\n",
      "   macro avg       0.69      0.62      0.64       881\n",
      "weighted avg       0.66      0.63      0.64       881\n",
      "\n",
      "\n",
      "[neptune] [info   ] Shutting down background jobs, please wait a moment...\n",
      "[neptune] [info   ] Done!\n",
      "[neptune] [info   ] Waiting for the remaining 2 operations to synchronize with Neptune. Do not kill this process.\n",
      "[neptune] [info   ] All 2 operations synced, thanks for waiting!\n",
      "[neptune] [info   ] Explore the metadata in the Neptune app: https://app.neptune.ai/test-text/bootcamp-test/e/BOOT-1/metadata\n"
     ]
    }
   ],
   "source": [
    "method = [x for x in config['methods'] if x['name'] == choosen_method][0]\n",
    "\n",
    "model_name = method[\"name\"]\n",
    "model_config = convert_params(method[\"config\"])\n",
    "\n",
    "model_namespace = f\"models/{model_name}/{model_version}\"\n",
    "\n",
    "for param_name, param_value in model_config.items():\n",
    "    run[f\"{model_namespace}/parameters/{param_name}\"] = param_value\n",
    "    \n",
    "# Instantiate model with specified config\n",
    "ModelClass = model_mapping[model_name]\n",
    "model = ModelClass(**model_config)\n",
    "\n",
    "# Train model\n",
    "model.fit(train_x, train_y)\n",
    "\n",
    " # Save the model to a file\n",
    "model_filename = f\"{model_name}_{model_version}.joblib\"\n",
    "joblib.dump(model, model_filename)\n",
    "\n",
    "# Log model artifact to Neptune\n",
    "run[f\"{model_namespace}/artifact\"].upload(model_filename)\n",
    "\n",
    "# Predict and evaluate\n",
    "predicted_y = model.predict(test_x)\n",
    "report = classification_report(test_y, predicted_y)\n",
    "\n",
    "# Log classification report to Neptune\n",
    "run[f\"{model_namespace}/classification_report\"] = report\n",
    "\n",
    "print(f\"Classification Report for {model_name}:\\n{report}\\n\")\n",
    "\n",
    "run.stop()"
   ]
  },
  {
   "cell_type": "code",
   "execution_count": null,
   "metadata": {},
   "outputs": [],
   "source": []
  }
 ],
 "metadata": {
  "kernelspec": {
   "display_name": ".venv",
   "language": "python",
   "name": "python3"
  },
  "language_info": {
   "codemirror_mode": {
    "name": "ipython",
    "version": 3
   },
   "file_extension": ".py",
   "mimetype": "text/x-python",
   "name": "python",
   "nbconvert_exporter": "python",
   "pygments_lexer": "ipython3",
   "version": "3.11.6"
  }
 },
 "nbformat": 4,
 "nbformat_minor": 2
}
